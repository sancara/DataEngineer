{
  "nbformat": 4,
  "nbformat_minor": 0,
  "metadata": {
    "colab": {
      "provenance": [],
      "collapsed_sections": [
        "exVtKpYK4Z-U",
        "SmLWSxo1GKq6"
      ],
      "authorship_tag": "ABX9TyOWKxL1smIR0M0RsLl/ED5h",
      "include_colab_link": true
    },
    "kernelspec": {
      "name": "python3",
      "display_name": "Python 3"
    },
    "language_info": {
      "name": "python"
    }
  },
  "cells": [
    {
      "cell_type": "markdown",
      "metadata": {
        "id": "view-in-github",
        "colab_type": "text"
      },
      "source": [
        "<a href=\"https://colab.research.google.com/github/sancara/DataEngineer/blob/main/Examen_Final.ipynb\" target=\"_parent\"><img src=\"https://colab.research.google.com/assets/colab-badge.svg\" alt=\"Open In Colab\"/></a>"
      ]
    },
    {
      "cell_type": "markdown",
      "source": [
        "#Problema\n",
        "La Administración Nacional de Aviación Civil necesita una serie de informes para elevar al\n",
        "ministerio de transporte acerca de los aterrizajes y despegues en todo el territorio Argentino,\n",
        "como puede ser: cuales aviones son los que más volaron, cuántos pasajeros volaron, ciudades\n",
        "de partidas y aterrizajes entre fechas determinadas, etc.\n",
        "Usted como data engineer deberá realizar un pipeline con esta información, automatizarlo y\n",
        "realizar los análisis de datos solicitados que permita responder las preguntas de negocio, y\n",
        "hacer sus recomendaciones con respecto al estado actual.\n",
        "\n",
        "- Listado de vuelos realizados:\n",
        "https://datos.transporte.gob.ar/dataset/aterrizajes-despegues-procesados-por-administracion-nacional-aviacion-civil-anac\n",
        "- Listado de detalles de aeropuertos de Argentina:\n",
        "https://datos.transporte.gob.ar/dataset/lista-aeropuertos\n"
      ],
      "metadata": {
        "id": "cYctYPunx7O_"
      }
    },
    {
      "cell_type": "markdown",
      "source": [
        "# Tareas\n",
        "1. Ingest\n",
        "  - [Informe 2021](https://datos.transporte.gob.ar/dataset/21038a1a-c3c7-4494-b76a-3a2a8fbb83b5/resource/1b4f569a-cab0-4560-993c-5bf96c3e7cf0/download/2021-informe-ministerio.csv)\n",
        "  - [Informe 2022](https://data-engineer-edvai.s3.amazonaws.com/202206-informe-ministerio.csv)\n",
        "  - [Detalles Aeropuerto](https://datos.transporte.gob.ar/dataset/62b3fe5f-ffe6-4d8f-9d59-bfabe75d1ee8/resource/eb54e49e-9a5a-4614-91f4-526c650d0105/download/aeropuertos_detalle.csv)\n",
        "2. Realizar un proceso automático orquestado por airflow que ingeste los archivos previamente\n",
        "mencionados entre las fechas 01/01/2021 y 30/06/2022\n",
        "3. Realizar las siguiente transformaciones en los pipelines de datos:\n",
        "  - Eliminar la columna inhab ya que no se utilizará para el análisis\n",
        "  - Eliminar la columna fir ya que no se utilizará para el análisis\n",
        "  - Eliminar la columna “calidad del dato” ya que no se utilizará para el análisis\n",
        "  - Filtrar los vuelos internacionales ya que solamente se analizarán los vuelos domésticos\n",
        "  - En el campo pasajeros si se encuentran campos en Null convertirlos en 0 (cero)\n",
        "  - En el campo distancia_ref si se encuentran campos en Null convertirlos en 0 (cero)\n",
        "4. Mostrar mediante una impresión de pantalla, que los tipos de campos de las tablas sean los\n",
        "solicitados en el datawarehouse (ej: fecha date, aeronave string, pasajeros integer, etc.)\n",
        "5. Determinar la cantidad de vuelos entre las fechas 01/12/2021 y 31/01/2022. Mostrar consulta y\n",
        "Resultado de la query\n",
        "6. Cantidad de pasajeros que viajaron en Aerolíneas Argentinas entre el 01/01/2021 y 30/06/2022.\n",
        "Mostrar consulta y Resultado de la query\n",
        "7. Mostrar fecha, hora, código aeropuerto salida, ciudad de salida, código de aeropuerto de arribo,\n",
        "ciudad de arribo, y cantidad de pasajeros de cada vuelo, entre el 01/01/2022 y el 30/06/2022\n",
        "ordenados por fecha de manera descendiente. Mostrar consulta y Resultado de la query\n",
        "8. Cuales son las 10 aerolíneas que más pasajeros llevaron entre el 01/01/2021 y el 30/06/2022\n",
        "exceptuando aquellas aerolíneas que no tengan nombre. Mostrar consulta y Visualización\n",
        "9. Cuales son las 10 aeronaves más utilizadas entre el 01/01/2021 y el 30/06/22 que despegaron\n",
        "desde la Ciudad autónoma de Buenos Aires o de Buenos Aires, exceptuando aquellas aeronaves\n",
        "que no cuentan con nombre. Mostrar consulta y Visualización.\n",
        "10. Qué datos externos agregaría en este dataset que mejoraría el análisis de los datos\n"
      ],
      "metadata": {
        "id": "Gl-xG0Hbyjfi"
      }
    },
    {
      "cell_type": "markdown",
      "source": [
        "## Ingest\n",
        "1. Realizo ingesta de archivos\n",
        "2. Genero un dataframe por archivo\n",
        "3. Casteo de columnas a tipo de dato solicitado\n",
        "4. Renombro las columnas\n",
        "5. Print de schema "
      ],
      "metadata": {
        "id": "exVtKpYK4Z-U"
      }
    },
    {
      "cell_type": "code",
      "execution_count": null,
      "metadata": {
        "colab": {
          "base_uri": "https://localhost:8080/"
        },
        "id": "2_E4ubHex2tQ",
        "outputId": "be329405-ecc1-487a-d300-638df8b6aa12"
      },
      "outputs": [
        {
          "output_type": "stream",
          "name": "stdout",
          "text": [
            "--2022-11-28 20:47:53--  https://datos.transporte.gob.ar/dataset/21038a1a-c3c7-4494-b76a-3a2a8fbb83b5/resource/1b4f569a-cab0-4560-993c-5bf96c3e7cf0/download/2021-informe-ministerio.csv\n",
            "Resolving datos.transporte.gob.ar (datos.transporte.gob.ar)... 190.220.16.243\n",
            "Connecting to datos.transporte.gob.ar (datos.transporte.gob.ar)|190.220.16.243|:443... connected.\n",
            "HTTP request sent, awaiting response... 200 OK\n",
            "Length: 32322556 (31M) [text/csv]\n",
            "Saving to: ‘2021-informe-ministerio.csv’\n",
            "\n",
            "2021-informe-minist 100%[===================>]  30.82M  4.20MB/s    in 7.9s    \n",
            "\n",
            "2022-11-28 20:48:02 (3.90 MB/s) - ‘2021-informe-ministerio.csv’ saved [32322556/32322556]\n",
            "\n",
            "--2022-11-28 20:48:02--  https://data-engineer-edvai.s3.amazonaws.com/202206-informe-ministerio.csv\n",
            "Resolving data-engineer-edvai.s3.amazonaws.com (data-engineer-edvai.s3.amazonaws.com)... 52.216.129.115, 52.217.66.108, 52.216.104.3, ...\n",
            "Connecting to data-engineer-edvai.s3.amazonaws.com (data-engineer-edvai.s3.amazonaws.com)|52.216.129.115|:443... connected.\n",
            "HTTP request sent, awaiting response... 200 OK\n",
            "Length: 22833520 (22M) [text/csv]\n",
            "Saving to: ‘202206-informe-ministerio.csv’\n",
            "\n",
            "202206-informe-mini 100%[===================>]  21.78M  74.7MB/s    in 0.3s    \n",
            "\n",
            "2022-11-28 20:48:02 (74.7 MB/s) - ‘202206-informe-ministerio.csv’ saved [22833520/22833520]\n",
            "\n",
            "--2022-11-28 20:48:02--  https://datos.transporte.gob.ar/dataset/62b3fe5f-ffe6-4d8f-9d59-bfabe75d1ee8/resource/eb54e49e-9a5a-4614-91f4-526c650d0105/download/aeropuertos_detalle.csv\n",
            "Resolving datos.transporte.gob.ar (datos.transporte.gob.ar)... 190.220.16.243\n",
            "Connecting to datos.transporte.gob.ar (datos.transporte.gob.ar)|190.220.16.243|:443... connected.\n",
            "HTTP request sent, awaiting response... 200 OK\n",
            "Length: 136007 (133K) [text/csv]\n",
            "Saving to: ‘aeropuertos_detalle.csv’\n",
            "\n",
            "aeropuertos_detalle 100%[===================>] 132.82K   353KB/s    in 0.4s    \n",
            "\n",
            "2022-11-28 20:48:03 (353 KB/s) - ‘aeropuertos_detalle.csv’ saved [136007/136007]\n",
            "\n"
          ]
        }
      ],
      "source": [
        "!wget https://datos.transporte.gob.ar/dataset/21038a1a-c3c7-4494-b76a-3a2a8fbb83b5/resource/1b4f569a-cab0-4560-993c-5bf96c3e7cf0/download/2021-informe-ministerio.csv\n",
        "!wget https://data-engineer-edvai.s3.amazonaws.com/202206-informe-ministerio.csv\n",
        "!wget https://datos.transporte.gob.ar/dataset/62b3fe5f-ffe6-4d8f-9d59-bfabe75d1ee8/resource/eb54e49e-9a5a-4614-91f4-526c650d0105/download/aeropuertos_detalle.csv"
      ]
    },
    {
      "cell_type": "code",
      "source": [
        "# Spark import and session creation\n",
        "!pip3 install pyspark py4j\n",
        "from pyspark.sql import SparkSession\n",
        "\n",
        "spark = SparkSession \\\n",
        "    .builder \\\n",
        "    .appName(\"edvai\") \\\n",
        "    .getOrCreate()"
      ],
      "metadata": {
        "colab": {
          "base_uri": "https://localhost:8080/"
        },
        "id": "SHkxOP6B4h_n",
        "outputId": "6b97d50d-bc07-4fc2-d01a-c1c6f1c24083"
      },
      "execution_count": null,
      "outputs": [
        {
          "output_type": "stream",
          "name": "stdout",
          "text": [
            "Looking in indexes: https://pypi.org/simple, https://us-python.pkg.dev/colab-wheels/public/simple/\n",
            "Collecting pyspark\n",
            "  Downloading pyspark-3.3.1.tar.gz (281.4 MB)\n",
            "\u001b[K     |████████████████████████████████| 281.4 MB 43 kB/s \n",
            "\u001b[?25hCollecting py4j\n",
            "  Downloading py4j-0.10.9.7-py2.py3-none-any.whl (200 kB)\n",
            "\u001b[K     |████████████████████████████████| 200 kB 50.9 MB/s \n",
            "\u001b[?25h  Downloading py4j-0.10.9.5-py2.py3-none-any.whl (199 kB)\n",
            "\u001b[K     |████████████████████████████████| 199 kB 65.5 MB/s \n",
            "\u001b[?25hBuilding wheels for collected packages: pyspark\n",
            "  Building wheel for pyspark (setup.py) ... \u001b[?25l\u001b[?25hdone\n",
            "  Created wheel for pyspark: filename=pyspark-3.3.1-py2.py3-none-any.whl size=281845512 sha256=8ac5c0bbe587fb3f3458606e584ecad48d4a8d79d16f14290cbf2eb617ece962\n",
            "  Stored in directory: /root/.cache/pip/wheels/42/59/f5/79a5bf931714dcd201b26025347785f087370a10a3329a899c\n",
            "Successfully built pyspark\n",
            "Installing collected packages: py4j, pyspark\n",
            "Successfully installed py4j-0.10.9.5 pyspark-3.3.1\n"
          ]
        }
      ]
    },
    {
      "cell_type": "code",
      "execution_count": null,
      "metadata": {
        "colab": {
          "base_uri": "https://localhost:8080/"
        },
        "id": "YnvIhUR8QPnk",
        "outputId": "1e238689-90ed-49ec-d7c1-fcfd5f93a013"
      },
      "outputs": [
        {
          "output_type": "stream",
          "name": "stdout",
          "text": [
            "root\n",
            " |-- fecha: date (nullable = true)\n",
            " |-- horaUTC: string (nullable = true)\n",
            " |-- clase_de_vuelo: string (nullable = true)\n",
            " |-- clasificacion_vuelo: string (nullable = true)\n",
            " |-- tipo_de_movimiento: string (nullable = true)\n",
            " |-- aeropuerto: string (nullable = true)\n",
            " |-- origen_destino: string (nullable = true)\n",
            " |-- aerolinea_nombre: string (nullable = true)\n",
            " |-- aeronave: string (nullable = true)\n",
            " |-- pasajeros: integer (nullable = true)\n",
            " |-- Calidad dato: string (nullable = true)\n",
            "\n",
            "+----------+-------+--------------------+-------------------+------------------+----------+--------------+--------------------+----------------+---------+------------+\n",
            "|     fecha|horaUTC|      clase_de_vuelo|clasificacion_vuelo|tipo_de_movimiento|aeropuerto|origen_destino|    aerolinea_nombre|        aeronave|pasajeros|Calidad dato|\n",
            "+----------+-------+--------------------+-------------------+------------------+----------+--------------+--------------------+----------------+---------+------------+\n",
            "|2021-01-01|  00:02|Vuelo Privado con...|          Domestico|          Despegue|       PAR|           ROS|                   0|    PA-PA-28-181|        0|  DEFINITIVO|\n",
            "|2021-01-01|  00:24|             Regular|          Domestico|        Aterrizaje|       EZE|           GRA|AEROLINEAS ARGENT...|     BO-B737-8MB|       70|  DEFINITIVO|\n",
            "|2021-01-01|  00:26|             Regular|          Domestico|        Aterrizaje|       EZE|           ECA|AEROLINEAS ARGENT...|      BO-737-800|       70|  DEFINITIVO|\n",
            "|2021-01-01|  00:29|             Regular|          Domestico|        Aterrizaje|       EZE|           SAL|AEROLINEAS ARGENT...|    BO-B-737-76N|       12|  DEFINITIVO|\n",
            "|2021-01-01|  00:37|             Regular|          Domestico|        Aterrizaje|       EZE|           TUC|AEROLINEAS ARGENT...|EMB-ERJ190100IGW|       26|  DEFINITIVO|\n",
            "+----------+-------+--------------------+-------------------+------------------+----------+--------------+--------------------+----------------+---------+------------+\n",
            "only showing top 5 rows\n",
            "\n"
          ]
        }
      ],
      "source": [
        "from pyspark.sql.functions import to_date\n",
        "\n",
        "df_2021 = spark.read.option(\"header\", \"true\").csv(\"./2021-informe-ministerio.csv\", sep =\";\")\n",
        "df_2021 = df_2021.withColumn('fecha', to_date(df_2021.Fecha, 'dd/MM/yyyy'))\\\n",
        "          .withColumn('pasajeros', df_2021.Pasajeros.cast('int'))\\\n",
        "          .withColumnRenamed('Hora UTC', 'horaUTC')\\\n",
        "          .withColumnRenamed('Clase de Vuelo (todos los vuelos)', 'clase_de_vuelo')\\\n",
        "          .withColumnRenamed('Clasificación Vuelo', 'clasificacion_vuelo')\\\n",
        "          .withColumnRenamed('Tipo de Movimiento', 'tipo_de_movimiento')\\\n",
        "          .withColumnRenamed('Aeropuerto', 'aeropuerto')\\\n",
        "          .withColumnRenamed('Origen / Destino', 'origen_destino')\\\n",
        "          .withColumnRenamed('Aerolinea Nombre', 'aerolinea_nombre')\\\n",
        "          .withColumnRenamed('Aeronave', 'aeronave')\n",
        "          \n",
        "df_2021.printSchema()\n",
        "df_2021.show(5)"
      ]
    },
    {
      "cell_type": "code",
      "source": [
        "df_2022 = spark.read.option(\"header\", \"true\").csv(\"./202206-informe-ministerio.csv\", sep = \";\")\n",
        "df_2022 = df_2022.withColumn('fecha',to_date(df_2022.Fecha, 'dd/MM/yyyy'))\\\n",
        "          .withColumn('pasajeros', df_2022.Pasajeros.cast('int'))\\\n",
        "          .withColumnRenamed('Hora UTC', 'horaUTC')\\\n",
        "          .withColumnRenamed('Clase de Vuelo (todos los vuelos)', 'clase_de_vuelo')\\\n",
        "          .withColumnRenamed('Clasificación Vuelo', 'clasificacion_vuelo')\\\n",
        "          .withColumnRenamed('Tipo de Movimiento', 'tipo_de_movimiento')\\\n",
        "          .withColumnRenamed('Aeropuerto', 'aeropuerto')\\\n",
        "          .withColumnRenamed('Origen / Destino', 'origen_destino')\\\n",
        "          .withColumnRenamed('Aerolinea Nombre', 'aerolinea_nombre')\\\n",
        "          .withColumnRenamed('Aeronave', 'aeronave')\n",
        "\n",
        "df_2022.printSchema()\n",
        "df_2022.show(5)"
      ],
      "metadata": {
        "colab": {
          "base_uri": "https://localhost:8080/"
        },
        "id": "LsmqWNU5954e",
        "outputId": "5146542e-44cb-40f3-b70c-7c45d166774e"
      },
      "execution_count": null,
      "outputs": [
        {
          "output_type": "stream",
          "name": "stdout",
          "text": [
            "root\n",
            " |-- fecha: date (nullable = true)\n",
            " |-- horaUTC: string (nullable = true)\n",
            " |-- clase_de_vuelo: string (nullable = true)\n",
            " |-- clasificacion_vuelo: string (nullable = true)\n",
            " |-- tipo_de_movimiento: string (nullable = true)\n",
            " |-- aeropuerto: string (nullable = true)\n",
            " |-- origen_destino: string (nullable = true)\n",
            " |-- aerolinea_nombre: string (nullable = true)\n",
            " |-- aeronave: string (nullable = true)\n",
            " |-- pasajeros: integer (nullable = true)\n",
            " |-- Calidad dato: string (nullable = true)\n",
            "\n",
            "+----------+-------+--------------+-------------------+------------------+----------+--------------+--------------------+------------+---------+------------+\n",
            "|     fecha|horaUTC|clase_de_vuelo|clasificacion_vuelo|tipo_de_movimiento|aeropuerto|origen_destino|    aerolinea_nombre|    aeronave|pasajeros|Calidad dato|\n",
            "+----------+-------+--------------+-------------------+------------------+----------+--------------+--------------------+------------+---------+------------+\n",
            "|2022-01-01|  00:01|       Regular|          Doméstico|        Aterrizaje|       AER|           ECA|AEROLINEAS ARGENT...|  BO-737-8SH|       69|  DEFINITIVO|\n",
            "|2022-01-01|  00:05|       Regular|          Doméstico|        Aterrizaje|       AER|           SAL|AEROLINEAS ARGENT...|   BO-B737-8|       65|  DEFINITIVO|\n",
            "|2022-01-01|  00:05|       Regular|          Doméstico|          Despegue|       IGU|           AER|JETSMART AIRLINES...|AIB-A320-232|       41|  DEFINITIVO|\n",
            "|2022-01-01|  00:09|       Regular|          Doméstico|        Aterrizaje|       AER|           GAL|AEROLINEAS ARGENT...| BO-B737-81D|       73|  DEFINITIVO|\n",
            "|2022-01-01|  00:09|       Regular|      Internacional|          Despegue|       EZE|          KDFW|AMERICAN AIRLINES...|           0|      261|  DEFINITIVO|\n",
            "+----------+-------+--------------+-------------------+------------------+----------+--------------+--------------------+------------+---------+------------+\n",
            "only showing top 5 rows\n",
            "\n"
          ]
        }
      ]
    },
    {
      "cell_type": "code",
      "source": [
        "df_aeropuertos = spark.read.option(\"header\", \"true\").csv(\"./aeropuertos_detalle.csv\", sep = \";\")\n",
        "df_aeropuertos = df_aeropuertos.withColumn('elev', df_aeropuertos.elev.cast('float'))\\\n",
        "                .withColumn('distancia_ref', df_aeropuertos.distancia_ref.cast('float'))\\\n",
        "                .withColumnRenamed('local','aeropuerto')\\\n",
        "                .withColumnRenamed('oaci','oac')\n",
        "df_aeropuertos.printSchema()\n",
        "df_aeropuertos.show(5)"
      ],
      "metadata": {
        "colab": {
          "base_uri": "https://localhost:8080/"
        },
        "id": "VG8MfhNa-I9S",
        "outputId": "1f01b023-d42f-4b8a-d962-53cac0775299"
      },
      "execution_count": null,
      "outputs": [
        {
          "output_type": "stream",
          "name": "stdout",
          "text": [
            "root\n",
            " |-- aeropuerto: string (nullable = true)\n",
            " |-- oac: string (nullable = true)\n",
            " |-- iata: string (nullable = true)\n",
            " |-- tipo: string (nullable = true)\n",
            " |-- denominacion: string (nullable = true)\n",
            " |-- coordenadas: string (nullable = true)\n",
            " |-- latitud: string (nullable = true)\n",
            " |-- longitud: string (nullable = true)\n",
            " |-- elev: float (nullable = true)\n",
            " |-- uom_elev: string (nullable = true)\n",
            " |-- ref: string (nullable = true)\n",
            " |-- distancia_ref: float (nullable = true)\n",
            " |-- direccion_ref: string (nullable = true)\n",
            " |-- condicion: string (nullable = true)\n",
            " |-- control: string (nullable = true)\n",
            " |-- region: string (nullable = true)\n",
            " |-- fir: string (nullable = true)\n",
            " |-- uso: string (nullable = true)\n",
            " |-- trafico: string (nullable = true)\n",
            " |-- sna: string (nullable = true)\n",
            " |-- concesionado: string (nullable = true)\n",
            " |-- provincia: string (nullable = true)\n",
            " |-- inhab: string (nullable = true)\n",
            "\n",
            "+----------+----+----+---------+--------------------+--------------------+------------+------------+-----+--------+--------------+-------------+-------------+---------+---------+------+----+-------+--------+---+------------+-------------------+-----+\n",
            "|aeropuerto| oac|iata|     tipo|        denominacion|         coordenadas|     latitud|    longitud| elev|uom_elev|           ref|distancia_ref|direccion_ref|condicion|  control|region| fir|    uso| trafico|sna|concesionado|          provincia|inhab|\n",
            "+----------+----+----+---------+--------------------+--------------------+------------+------------+-----+--------+--------------+-------------+-------------+---------+---------+------+----+-------+--------+---+------------+-------------------+-----+\n",
            "|       ACB|null|null|Aeródromo|CORONEL BOGADO/AG...|\"33°16'20\"\"S  60°...|-60.57066000|-33.27226000| 44.0|  Metros|Coronel Bogado|          6.0|           NE|  PRIVADO|NOCONTROL|  RACE|SAEF|AEROAPP|Nacional| NO|          NO|           SANTA FÉ|   NO|\n",
            "|       ACH|null|null|Aeródromo|        GENERAL ACHA|\"37°24' 6\"\"S  64°...|-64.61351000|-37.40164000|277.0|  Metros|  General Acha|          3.0|           SO|  PUBLICO|NOCONTROL|  RACE|SAEF|  CIVIL|Nacional| NO|          NO|           LA PAMPA|   NO|\n",
            "|       ACM|null|null|Aeródromo|ARRECIFES/LA CURA...|\"34° 4'33\"\"S  60°...|-60.14170000|-34.07574000| 37.0|  Metros|     Arrecifes|          4.0|          OSO|  PRIVADO|NOCONTROL|  RACE|SAEF|  CIVIL|Nacional| NO|          NO|       BUENOS AIRES|   NO|\n",
            "|       ADO|SAWD| PUD|Aeródromo|      PUERTO DESEADO|\"47°44' 6\"\"S  65°...|-65.90410000|-47.73511000| 82.0|  Metros|Puerto Deseado|          2.0|            N|  PUBLICO|  AERADIO|  RASU|SAVF|  CIVIL|Nacional| NO|          NO|         SANTA CRUZ|   NO|\n",
            "|       ADT|null|null|Aeródromo|BANDERA/AGROSERVI...|\"28°51'19\"\"S  62°...|-62.26462000|-28.85541000| 75.0|  Metros|       Bandera|          4.0|            N|  PRIVADO|NOCONTROL|  RANO|SACF|AEROAPP|Nacional| NO|          NO|SANTIAGO DEL ESTERO|   NO|\n",
            "+----------+----+----+---------+--------------------+--------------------+------------+------------+-----+--------+--------------+-------------+-------------+---------+---------+------+----+-------+--------+---+------------+-------------------+-----+\n",
            "only showing top 5 rows\n",
            "\n"
          ]
        }
      ]
    },
    {
      "cell_type": "markdown",
      "source": [
        "## ETL Pyspark"
      ],
      "metadata": {
        "id": "0rPuU6-GBhT1"
      }
    },
    {
      "cell_type": "code",
      "source": [
        "from pyspark.sql.functions import col\n",
        "\n",
        "\n",
        "df_fechas = df_2021.union(df_2022)\n",
        "df_fechas = df_fechas.drop(col('Calidad dato')).na.fill(0,[\"pasajeros\"])\n",
        "\n",
        "df_fechas.printSchema()"
      ],
      "metadata": {
        "colab": {
          "base_uri": "https://localhost:8080/"
        },
        "id": "oDQF1SYhBpp_",
        "outputId": "b7742281-6504-4767-830e-9c04eb99143c"
      },
      "execution_count": null,
      "outputs": [
        {
          "output_type": "stream",
          "name": "stdout",
          "text": [
            "root\n",
            " |-- fecha: date (nullable = true)\n",
            " |-- horaUTC: string (nullable = true)\n",
            " |-- clase_de_vuelo: string (nullable = true)\n",
            " |-- clasificacion_vuelo: string (nullable = true)\n",
            " |-- tipo_de_movimiento: string (nullable = true)\n",
            " |-- aeropuerto: string (nullable = true)\n",
            " |-- origen_destino: string (nullable = true)\n",
            " |-- aerolinea_nombre: string (nullable = true)\n",
            " |-- aeronave: string (nullable = true)\n",
            " |-- pasajeros: integer (nullable = true)\n",
            "\n"
          ]
        }
      ]
    },
    {
      "cell_type": "code",
      "source": [
        "vuelos_domesticos = df_fechas.filter(df_fechas.clasificacion_vuelo == 'Domestico')\n",
        "vuelos_domesticos.show(5)"
      ],
      "metadata": {
        "id": "mrwYqGASNPeb",
        "colab": {
          "base_uri": "https://localhost:8080/"
        },
        "outputId": "18844f91-0f53-40ac-d785-027b225bb4f5"
      },
      "execution_count": null,
      "outputs": [
        {
          "output_type": "stream",
          "name": "stdout",
          "text": [
            "+----------+-------+--------------------+-------------------+------------------+----------+--------------+--------------------+----------------+---------+\n",
            "|     fecha|horaUTC|      clase_de_vuelo|clasificacion_vuelo|tipo_de_movimiento|aeropuerto|origen_destino|    aerolinea_nombre|        aeronave|pasajeros|\n",
            "+----------+-------+--------------------+-------------------+------------------+----------+--------------+--------------------+----------------+---------+\n",
            "|2021-01-01|  00:02|Vuelo Privado con...|          Domestico|          Despegue|       PAR|           ROS|                   0|    PA-PA-28-181|        0|\n",
            "|2021-01-01|  00:24|             Regular|          Domestico|        Aterrizaje|       EZE|           GRA|AEROLINEAS ARGENT...|     BO-B737-8MB|       70|\n",
            "|2021-01-01|  00:26|             Regular|          Domestico|        Aterrizaje|       EZE|           ECA|AEROLINEAS ARGENT...|      BO-737-800|       70|\n",
            "|2021-01-01|  00:29|             Regular|          Domestico|        Aterrizaje|       EZE|           SAL|AEROLINEAS ARGENT...|    BO-B-737-76N|       12|\n",
            "|2021-01-01|  00:37|             Regular|          Domestico|        Aterrizaje|       EZE|           TUC|AEROLINEAS ARGENT...|EMB-ERJ190100IGW|       26|\n",
            "+----------+-------+--------------------+-------------------+------------------+----------+--------------+--------------------+----------------+---------+\n",
            "only showing top 5 rows\n",
            "\n"
          ]
        }
      ]
    },
    {
      "cell_type": "code",
      "source": [
        "df_aeropuertos = df_aeropuertos.drop(col('inhab')).drop(col('fir')).na.fill(0, [\"distancia_ref\"])\n",
        "df_aeropuertos.printSchema()\n",
        "df_aeropuertos.show()"
      ],
      "metadata": {
        "colab": {
          "base_uri": "https://localhost:8080/"
        },
        "id": "3y-UDmVAMR2P",
        "outputId": "acdf4ce7-3f09-45f9-8b5d-8fb85abd8a62"
      },
      "execution_count": null,
      "outputs": [
        {
          "output_type": "stream",
          "name": "stdout",
          "text": [
            "root\n",
            " |-- aeropuerto: string (nullable = true)\n",
            " |-- oac: string (nullable = true)\n",
            " |-- iata: string (nullable = true)\n",
            " |-- tipo: string (nullable = true)\n",
            " |-- denominacion: string (nullable = true)\n",
            " |-- coordenadas: string (nullable = true)\n",
            " |-- latitud: string (nullable = true)\n",
            " |-- longitud: string (nullable = true)\n",
            " |-- elev: float (nullable = true)\n",
            " |-- uom_elev: string (nullable = true)\n",
            " |-- ref: string (nullable = true)\n",
            " |-- distancia_ref: float (nullable = false)\n",
            " |-- direccion_ref: string (nullable = true)\n",
            " |-- condicion: string (nullable = true)\n",
            " |-- control: string (nullable = true)\n",
            " |-- region: string (nullable = true)\n",
            " |-- uso: string (nullable = true)\n",
            " |-- trafico: string (nullable = true)\n",
            " |-- sna: string (nullable = true)\n",
            " |-- concesionado: string (nullable = true)\n",
            " |-- provincia: string (nullable = true)\n",
            "\n",
            "+----------+----+----+---------+--------------------+--------------------+------------+------------+-----+--------+--------------------+-------------+-------------+---------+---------+------+-------+-------------+---+------------+--------------------+\n",
            "|aeropuerto| oac|iata|     tipo|        denominacion|         coordenadas|     latitud|    longitud| elev|uom_elev|                 ref|distancia_ref|direccion_ref|condicion|  control|region|    uso|      trafico|sna|concesionado|           provincia|\n",
            "+----------+----+----+---------+--------------------+--------------------+------------+------------+-----+--------+--------------------+-------------+-------------+---------+---------+------+-------+-------------+---+------------+--------------------+\n",
            "|       ACB|null|null|Aeródromo|CORONEL BOGADO/AG...|\"33°16'20\"\"S  60°...|-60.57066000|-33.27226000| 44.0|  Metros|      Coronel Bogado|          6.0|           NE|  PRIVADO|NOCONTROL|  RACE|AEROAPP|     Nacional| NO|          NO|            SANTA FÉ|\n",
            "|       ACH|null|null|Aeródromo|        GENERAL ACHA|\"37°24' 6\"\"S  64°...|-64.61351000|-37.40164000|277.0|  Metros|        General Acha|          3.0|           SO|  PUBLICO|NOCONTROL|  RACE|  CIVIL|     Nacional| NO|          NO|            LA PAMPA|\n",
            "|       ACM|null|null|Aeródromo|ARRECIFES/LA CURA...|\"34° 4'33\"\"S  60°...|-60.14170000|-34.07574000| 37.0|  Metros|           Arrecifes|          4.0|          OSO|  PRIVADO|NOCONTROL|  RACE|  CIVIL|     Nacional| NO|          NO|        BUENOS AIRES|\n",
            "|       ADO|SAWD| PUD|Aeródromo|      PUERTO DESEADO|\"47°44' 6\"\"S  65°...|-65.90410000|-47.73511000| 82.0|  Metros|      Puerto Deseado|          2.0|            N|  PUBLICO|  AERADIO|  RASU|  CIVIL|     Nacional| NO|          NO|          SANTA CRUZ|\n",
            "|       ADT|null|null|Aeródromo|BANDERA/AGROSERVI...|\"28°51'19\"\"S  62°...|-62.26462000|-28.85541000| 75.0|  Metros|             Bandera|          4.0|            N|  PRIVADO|NOCONTROL|  RANO|AEROAPP|     Nacional| NO|          NO| SANTIAGO DEL ESTERO|\n",
            "|       ADU|null|null|Aeródromo|       BANDERA/DUTTO|\"28°52' 1\"\"S  62°...|-62.23812000|-28.86691000| 87.0|  Metros|             Bandera|          3.0|           NE|  PRIVADO|NOCONTROL|  RANO|AEROAPP|     Nacional| NO|          NO| SANTIAGO DEL ESTERO|\n",
            "|       AER|SABE| AEP|Aeródromo|BUENOS AIRES/AERO...|\"34°33'32\"\"S  58°...|-58.41638889|-34.55888889|  5.6|  Metros|Ciudad de Buenos ...|          2.0|           NE|  PUBLICO|  CONTROL|  RACE|  JOINT|Internacional| SI|          SI|CIUDAD AUTÓNOMA D...|\n",
            "|       AGI|SAVA|null|Aeródromo|   PIEDRA DEL ÁGUILA|\"40°11'32\"\"S  70°...|-70.01075000|-40.19232000|649.0|  Metros|   Piedra del Águila|         17.0|          SSE|  PRIVADO|NOCONTROL|  RACE|   null|     Nacional| NO|          NO|             NEUQUÉN|\n",
            "|       AGR|null|null|Aeródromo|         ALTA GRACIA|\"31°39' 4\"\"S  64°...|-64.39388889|-31.65111111|533.0|  Metros|         Alta Gracia|          2.0|            E|  PUBLICO|NOCONTROL|  RANO|  CIVIL|     Nacional| NO|          NO|             CÓRDOBA|\n",
            "|       AII|null|null|Aeródromo| CHACABUCO/LAS DOS A|\"34°48'40\"\"S  60°...|-60.51661000|-34.81116000| 60.0|  Metros|           Chacabuco|         20.0|          SSO|  PRIVADO|NOCONTROL|  RACE|AEROAPP|     Nacional| NO|          NO|        BUENOS AIRES|\n",
            "|       AJA|null|null|Aeródromo|             LA LAJA|\"31°21' 5\"\"S  68°...|-68.47305556|-31.35138889|650.0|  Metros|             La Laja|          1.0|          SSE|  PRIVADO|NOCONTROL|  RANO|  CIVIL|     Nacional| NO|          NO|            SAN JUAN|\n",
            "|       ALC|null|null|Aeródromo|  AMEGHINO/LA CHACRA|\"34°48'34\"\"S  62°...|-62.52293000|-34.80942000|109.0|  Metros| Florentino Ameghino|          7.0|           NO|  PRIVADO|NOCONTROL|  RACE|  CIVIL|     Nacional| NO|          NO|        BUENOS AIRES|\n",
            "|       ALL|null|null|Aeródromo|               ALLEN|\"38°57'30\"\"S  67°...|-67.80277778|-38.95833333|290.0|  Metros|               Allen|          3.5|            E|  PRIVADO|NOCONTROL|  RACE|  CIVIL|     Nacional| NO|          NO|           RÍO NEGRO|\n",
            "|       ALR|null|null|Aeródromo|      ALEJANDRO ROCA|\"33°20'55\"\"S  63°...|-63.73000000|-33.34861111|210.0|  Metros|      Alejandro Roca|          1.5|           SO|  PRIVADO|NOCONTROL|  RANO|  CIVIL|     Nacional| NO|          NO|             CÓRDOBA|\n",
            "|       ALT|null|null|Aeródromo|           CRUZ ALTA|\"33° 0'28\"\"S  61°...|-61.83694444|-33.00777778| 97.0|  Metros|           Cruz Alta|          2.0|            O|  PUBLICO|NOCONTROL|  RACE|  CIVIL|     Nacional| NO|          NO|             CÓRDOBA|\n",
            "|       ALV|null|null|Aeródromo|ALVEAR/AGROALVEAR...|\"33° 4' 7\"\"S  60°...|-60.66682000|-33.06853000| 32.0|  Metros|              Alvear|          4.5|            O|  PRIVADO|NOCONTROL|  RACE|AEROAPP|     Nacional| NO|          NO|            SANTA FÉ|\n",
            "|       AMA|null|null|Aeródromo|   ROBERTS/LA AMALIA|\"35° 6' 2\"\"S  62°...|-62.01657000|-35.10043000|100.0|  Metros|             Roberts|          6.5|           NO|  PRIVADO|NOCONTROL|  RACE|AEROAPP|     Nacional| NO|          NO|        BUENOS AIRES|\n",
            "|       AME|null|null|Aeródromo|AMEGHINO/SIGFRIDO...|\"34°49'50\"\"S  62°...|-62.46787000|-34.83057000|110.0|  Metros| Florentino Ameghino|          2.0|            N|  PRIVADO|NOCONTROL|  RACE|AEROAPP|     Nacional| NO|          NO|        BUENOS AIRES|\n",
            "|       AMG|null|null|Aeródromo|            AMEGHINO|\"34°50'43\"\"S  62°...|-62.48266000|-34.84541000|110.0|  Metros| Florentino Ameghino|          2.5|          ONO|  PRIVADO|NOCONTROL|  RACE|  CIVIL|     Nacional| NO|          NO|        BUENOS AIRES|\n",
            "|       ANA|null|null|Aeródromo|     PARANÁ/AEROCLUB|\"31°45'28\"\"S  60°...|-60.37388889|-31.75777778| 60.0|  Metros|           La Picada|         15.0|          ESE|  PUBLICO|NOCONTROL|  RACE|   null|     Nacional| NO|          NO|          ENTRE RÍOS|\n",
            "+----------+----+----+---------+--------------------+--------------------+------------+------------+-----+--------+--------------------+-------------+-------------+---------+---------+------+-------+-------------+---+------------+--------------------+\n",
            "only showing top 20 rows\n",
            "\n"
          ]
        }
      ]
    },
    {
      "cell_type": "code",
      "source": [
        "vuelos_domesticos.createOrReplaceTempView('vuelos')\n",
        "vuelos2021a2022 = spark.sql(\"SELECT count(*) as cantidad_vuelos FROM vuelos WHERE fecha BETWEEN '2021-12-01' AND '2022-01-31'\")\n",
        "vuelos2021a2022.show()"
      ],
      "metadata": {
        "colab": {
          "base_uri": "https://localhost:8080/"
        },
        "id": "Xl1ilzQZBxio",
        "outputId": "fd5a4ad6-ba14-4be5-9582-4b717938ee03"
      },
      "execution_count": null,
      "outputs": [
        {
          "output_type": "stream",
          "name": "stdout",
          "text": [
            "+---------------+\n",
            "|cantidad_vuelos|\n",
            "+---------------+\n",
            "|          33003|\n",
            "+---------------+\n",
            "\n"
          ]
        }
      ]
    },
    {
      "cell_type": "code",
      "source": [
        "pasajeros_aerolineas = spark.sql(\"SELECT sum(pasajeros) as cantidad_pasajeros FROM vuelos \\\n",
        "                                  WHERE aerolinea_nombre == 'AEROLINEAS ARGENTINAS SA' \\\n",
        "                                  AND fecha BETWEEN '2021-12-01' AND '2022-06-30'\")\n",
        "pasajeros_aerolineas.show()"
      ],
      "metadata": {
        "colab": {
          "base_uri": "https://localhost:8080/"
        },
        "id": "YbH5c68DLrhF",
        "outputId": "192c53bc-ab64-42f0-cb43-46779ddbde31"
      },
      "execution_count": null,
      "outputs": [
        {
          "output_type": "stream",
          "name": "stdout",
          "text": [
            "+------------------+\n",
            "|cantidad_pasajeros|\n",
            "+------------------+\n",
            "|            634719|\n",
            "+------------------+\n",
            "\n"
          ]
        }
      ]
    },
    {
      "cell_type": "code",
      "source": [
        "df_aeropuertos.createOrReplaceTempView('aeropuertos')"
      ],
      "metadata": {
        "id": "B6lO74sVbYQV"
      },
      "execution_count": null,
      "outputs": []
    },
    {
      "cell_type": "code",
      "source": [
        "vuelos = spark.sql(\"SELECT v.fecha, v.horaUTC, v.aeropuerto as aep_salida, a.ref as ciudad_salida, v.origen_destino as aep_destino, b.ref as ciudad_destino, v.pasajeros \\\n",
        "                    FROM vuelos v \\\n",
        "                    JOIN aeropuertos a ON v.aeropuerto = a.aeropuerto \\\n",
        "                    JOIN aeropuertos b ON v.origen_destino = b.aeropuerto \\\n",
        "                    WHERE v.fecha BETWEEN '2021-12-01' AND '2022-06-30' ORDER BY fecha DESC\")\n",
        "vuelos.show(5)"
      ],
      "metadata": {
        "id": "dWY0xIRvQr95",
        "colab": {
          "base_uri": "https://localhost:8080/"
        },
        "outputId": "4371cc2c-9d3c-4872-87bc-bf5577a2d3bb"
      },
      "execution_count": null,
      "outputs": [
        {
          "output_type": "stream",
          "name": "stdout",
          "text": [
            "+----------+-------+----------+--------------------+-----------+--------------------+---------+\n",
            "|     fecha|horaUTC|aep_salida|       ciudad_salida|aep_destino|      ciudad_destino|pasajeros|\n",
            "+----------+-------+----------+--------------------+-----------+--------------------+---------+\n",
            "|2021-12-31|  00:04|       CBA|             Córdoba|        BAR|San Carlos de Bar...|       71|\n",
            "|2021-12-31|  00:13|       AER|Ciudad de Buenos ...|        GRA|          Río Grande|       82|\n",
            "|2021-12-31|  00:07|       IGU|Cataratas del Iguazú|        AER|Ciudad de Buenos ...|       72|\n",
            "|2021-12-31|  00:09|       FDO|        San Fernando|        FDO|        San Fernando|        0|\n",
            "|2021-12-31|  00:10|       AER|Ciudad de Buenos ...|        POS|             Posadas|       50|\n",
            "+----------+-------+----------+--------------------+-----------+--------------------+---------+\n",
            "only showing top 5 rows\n",
            "\n"
          ]
        }
      ]
    },
    {
      "cell_type": "code",
      "source": [
        "charged_aerolineas = spark.sql(\"SELECT aerolinea_nombre, sum(pasajeros) as cant_pasajeros \\\n",
        "                    FROM vuelos \\\n",
        "                    WHERE fecha BETWEEN '2021-12-01' AND '2022-06-30' AND aerolinea_nombre NOT IN (0)\\\n",
        "                    GROUP BY aerolinea_nombre \\\n",
        "                    ORDER BY cant_pasajeros DESC\")\n",
        "charged_aerolineas.show(10)"
      ],
      "metadata": {
        "colab": {
          "base_uri": "https://localhost:8080/"
        },
        "id": "4YRgWq_GcAYE",
        "outputId": "cc2700fb-c726-4b97-bb19-bede4be83bc1"
      },
      "execution_count": null,
      "outputs": [
        {
          "output_type": "stream",
          "name": "stdout",
          "text": [
            "+--------------------+--------------+\n",
            "|    aerolinea_nombre|cant_pasajeros|\n",
            "+--------------------+--------------+\n",
            "|AEROLINEAS ARGENT...|        634719|\n",
            "|FB LÍNEAS AÉREAS ...|        139514|\n",
            "|JETSMART AIRLINES...|        135136|\n",
            "|   AMERICAN JET S.A.|          1823|\n",
            "|            L.A.D.E.|          1686|\n",
            "|       BAIRES FLY SA|           645|\n",
            "|AIR EUROPA LINEAS...|           483|\n",
            "|FUERZA AEREA ARGE...|           309|\n",
            "|FUERZA AEREA ARGE...|            88|\n",
            "|AERORUTAS S.A. DE...|            84|\n",
            "+--------------------+--------------+\n",
            "only showing top 10 rows\n",
            "\n"
          ]
        }
      ]
    },
    {
      "cell_type": "code",
      "source": [
        "aeronaves = spark.sql(\"SELECT aeronave \\\n",
        "                       FROM vuelos \\\n",
        "                       WHERE aeropuerto in ('EZE', 'AEP') AND fecha BETWEEN '2021-12-01' AND '2022-06-30' AND tipo_de_movimiento == 'Despegue' \\\n",
        "                       -- AND aeronave NOT IN (0)\\\n",
        "                       GROUP BY aeronave \\\n",
        "                       ORDER BY aeronave\")\n",
        "aeronaves.show(10)"
      ],
      "metadata": {
        "colab": {
          "base_uri": "https://localhost:8080/"
        },
        "id": "tp9621MdfiK2",
        "outputId": "ba97ef67-f7bd-4653-8be2-1d386dce0c80"
      },
      "execution_count": null,
      "outputs": [
        {
          "output_type": "stream",
          "name": "stdout",
          "text": [
            "+------------+\n",
            "|    aeronave|\n",
            "+------------+\n",
            "| BO-B737-8SH|\n",
            "| BO-B737-800|\n",
            "| BO-B737-8SH|\n",
            "|  BO-737-8Q8|\n",
            "|BO-B-737-76N|\n",
            "|PA-PA-28-140|\n",
            "|AIB-A330-202|\n",
            "|BO-B-737-76N|\n",
            "|  BO-737-800|\n",
            "|AIB-A330-202|\n",
            "+------------+\n",
            "only showing top 10 rows\n",
            "\n"
          ]
        }
      ]
    },
    {
      "cell_type": "markdown",
      "source": [
        "## Pipeline BEAM"
      ],
      "metadata": {
        "id": "SmLWSxo1GKq6"
      }
    },
    {
      "cell_type": "code",
      "source": [],
      "metadata": {
        "id": "hkZ9Y4PgGRB6"
      },
      "execution_count": null,
      "outputs": []
    },
    {
      "cell_type": "markdown",
      "source": [
        "# Conclusiones"
      ],
      "metadata": {
        "id": "IZ8TiAvMzvgk"
      }
    },
    {
      "cell_type": "markdown",
      "source": [
        "- Se distingue un amplio predominio de vuelos domésticos por parte de las empresas convencionales por sobre las lowcost.\n",
        "- Las aeronaves que más despegan desde Buenos Aires son Boeing 737\n",
        "- Como insight futuro se podría enriquecer cada uno de los datos de vuelos, con las distancias recorridas sumando el consumo de combustible y condiciones meteorológicas, por lo cuál podríamos promediar un consumo y un costo estimado para futuros vuelos dependiendo de la distancia a recorrer y condiciones del clima."
      ],
      "metadata": {
        "id": "0ev3OP5yGKRK"
      }
    }
  ]
}